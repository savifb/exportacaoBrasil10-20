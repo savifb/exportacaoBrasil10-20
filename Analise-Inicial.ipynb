{
 "cells": [
  {
   "cell_type": "markdown",
   "id": "993ee9ad",
   "metadata": {
    "jp-MarkdownHeadingCollapsed": true
   },
   "source": [
    "### Puxar base de dados"
   ]
  },
  {
   "cell_type": "markdown",
   "id": "4ad76a65",
   "metadata": {},
   "source": [
    "### Informações Gerais"
   ]
  },
  {
   "cell_type": "code",
   "execution_count": 4,
   "id": "cce34f4d",
   "metadata": {},
   "outputs": [
    {
     "data": {
      "text/html": [
       "<div>\n",
       "<style scoped>\n",
       "    .dataframe tbody tr th:only-of-type {\n",
       "        vertical-align: middle;\n",
       "    }\n",
       "\n",
       "    .dataframe tbody tr th {\n",
       "        vertical-align: top;\n",
       "    }\n",
       "\n",
       "    .dataframe thead th {\n",
       "        text-align: right;\n",
       "    }\n",
       "</style>\n",
       "<table border=\"1\" class=\"dataframe\">\n",
       "  <thead>\n",
       "    <tr style=\"text-align: right;\">\n",
       "      <th></th>\n",
       "      <th>Year</th>\n",
       "      <th>Month</th>\n",
       "      <th>Country</th>\n",
       "      <th>City</th>\n",
       "      <th>SH4 Code</th>\n",
       "      <th>SH4 Description</th>\n",
       "      <th>SH2 Code</th>\n",
       "      <th>SH2 Description</th>\n",
       "      <th>Economic Block</th>\n",
       "      <th>US$ FOB</th>\n",
       "      <th>Net Weight</th>\n",
       "    </tr>\n",
       "  </thead>\n",
       "  <tbody>\n",
       "    <tr>\n",
       "      <th>0</th>\n",
       "      <td>2016</td>\n",
       "      <td>1</td>\n",
       "      <td>France</td>\n",
       "      <td>Águas Mornas - SC</td>\n",
       "      <td>303</td>\n",
       "      <td>Fish, frozen, excluding fish fillets and other...</td>\n",
       "      <td>3</td>\n",
       "      <td>Fish and crustaceans, molluscs and other aquat...</td>\n",
       "      <td>Europe</td>\n",
       "      <td>79360</td>\n",
       "      <td>14150</td>\n",
       "    </tr>\n",
       "    <tr>\n",
       "      <th>1</th>\n",
       "      <td>2016</td>\n",
       "      <td>1</td>\n",
       "      <td>France</td>\n",
       "      <td>Águas Mornas - SC</td>\n",
       "      <td>303</td>\n",
       "      <td>Fish, frozen, excluding fish fillets and other...</td>\n",
       "      <td>3</td>\n",
       "      <td>Fish and crustaceans, molluscs and other aquat...</td>\n",
       "      <td>European Union (EU)</td>\n",
       "      <td>79360</td>\n",
       "      <td>14150</td>\n",
       "    </tr>\n",
       "    <tr>\n",
       "      <th>2</th>\n",
       "      <td>2016</td>\n",
       "      <td>1</td>\n",
       "      <td>France</td>\n",
       "      <td>Águas Mornas - SC</td>\n",
       "      <td>304</td>\n",
       "      <td>Fish fillets and other fish meat (whether or n...</td>\n",
       "      <td>3</td>\n",
       "      <td>Fish and crustaceans, molluscs and other aquat...</td>\n",
       "      <td>Europe</td>\n",
       "      <td>69412</td>\n",
       "      <td>9385</td>\n",
       "    </tr>\n",
       "    <tr>\n",
       "      <th>3</th>\n",
       "      <td>2016</td>\n",
       "      <td>1</td>\n",
       "      <td>France</td>\n",
       "      <td>Águas Mornas - SC</td>\n",
       "      <td>304</td>\n",
       "      <td>Fish fillets and other fish meat (whether or n...</td>\n",
       "      <td>3</td>\n",
       "      <td>Fish and crustaceans, molluscs and other aquat...</td>\n",
       "      <td>European Union (EU)</td>\n",
       "      <td>69412</td>\n",
       "      <td>9385</td>\n",
       "    </tr>\n",
       "    <tr>\n",
       "      <th>4</th>\n",
       "      <td>2016</td>\n",
       "      <td>1</td>\n",
       "      <td>France</td>\n",
       "      <td>Alfenas - MG</td>\n",
       "      <td>901</td>\n",
       "      <td>Coffee, whether or not roasted or decaffeinate...</td>\n",
       "      <td>9</td>\n",
       "      <td>Coffee, tea, maté and spices</td>\n",
       "      <td>Europe</td>\n",
       "      <td>180914</td>\n",
       "      <td>57600</td>\n",
       "    </tr>\n",
       "    <tr>\n",
       "      <th>...</th>\n",
       "      <td>...</td>\n",
       "      <td>...</td>\n",
       "      <td>...</td>\n",
       "      <td>...</td>\n",
       "      <td>...</td>\n",
       "      <td>...</td>\n",
       "      <td>...</td>\n",
       "      <td>...</td>\n",
       "      <td>...</td>\n",
       "      <td>...</td>\n",
       "      <td>...</td>\n",
       "    </tr>\n",
       "    <tr>\n",
       "      <th>142355</th>\n",
       "      <td>2020</td>\n",
       "      <td>12</td>\n",
       "      <td>France</td>\n",
       "      <td>Vinhedo - SP</td>\n",
       "      <td>8424</td>\n",
       "      <td>Mechanical appliances (whether or not hand-ope...</td>\n",
       "      <td>84</td>\n",
       "      <td>Nuclear reactors, boilers, machinery and mecha...</td>\n",
       "      <td>European Union (EU)</td>\n",
       "      <td>2316</td>\n",
       "      <td>4</td>\n",
       "    </tr>\n",
       "    <tr>\n",
       "      <th>142356</th>\n",
       "      <td>2020</td>\n",
       "      <td>12</td>\n",
       "      <td>France</td>\n",
       "      <td>Vitória de Santo Antão - PE</td>\n",
       "      <td>714</td>\n",
       "      <td>Manioc, arrowroot, salep, Jerusalem artichokes...</td>\n",
       "      <td>7</td>\n",
       "      <td>Edible vegetables and certain roots and tubers</td>\n",
       "      <td>Europe</td>\n",
       "      <td>27060</td>\n",
       "      <td>26400</td>\n",
       "    </tr>\n",
       "    <tr>\n",
       "      <th>142357</th>\n",
       "      <td>2020</td>\n",
       "      <td>12</td>\n",
       "      <td>France</td>\n",
       "      <td>Vitória de Santo Antão - PE</td>\n",
       "      <td>714</td>\n",
       "      <td>Manioc, arrowroot, salep, Jerusalem artichokes...</td>\n",
       "      <td>7</td>\n",
       "      <td>Edible vegetables and certain roots and tubers</td>\n",
       "      <td>European Union (EU)</td>\n",
       "      <td>27060</td>\n",
       "      <td>26400</td>\n",
       "    </tr>\n",
       "    <tr>\n",
       "      <th>142358</th>\n",
       "      <td>2020</td>\n",
       "      <td>12</td>\n",
       "      <td>France</td>\n",
       "      <td>Xapuri - AC</td>\n",
       "      <td>4409</td>\n",
       "      <td>Wood (including strips and friezes for parquet...</td>\n",
       "      <td>44</td>\n",
       "      <td>Wood and articles of wood; wood charcoal</td>\n",
       "      <td>Europe</td>\n",
       "      <td>31111</td>\n",
       "      <td>23045</td>\n",
       "    </tr>\n",
       "    <tr>\n",
       "      <th>142359</th>\n",
       "      <td>2020</td>\n",
       "      <td>12</td>\n",
       "      <td>France</td>\n",
       "      <td>Xapuri - AC</td>\n",
       "      <td>4409</td>\n",
       "      <td>Wood (including strips and friezes for parquet...</td>\n",
       "      <td>44</td>\n",
       "      <td>Wood and articles of wood; wood charcoal</td>\n",
       "      <td>European Union (EU)</td>\n",
       "      <td>31111</td>\n",
       "      <td>23045</td>\n",
       "    </tr>\n",
       "  </tbody>\n",
       "</table>\n",
       "<p>142360 rows × 11 columns</p>\n",
       "</div>"
      ],
      "text/plain": [
       "        Year  Month Country                         City  SH4 Code  \\\n",
       "0       2016      1  France            Águas Mornas - SC       303   \n",
       "1       2016      1  France            Águas Mornas - SC       303   \n",
       "2       2016      1  France            Águas Mornas - SC       304   \n",
       "3       2016      1  France            Águas Mornas - SC       304   \n",
       "4       2016      1  France                 Alfenas - MG       901   \n",
       "...      ...    ...     ...                          ...       ...   \n",
       "142355  2020     12  France                 Vinhedo - SP      8424   \n",
       "142356  2020     12  France  Vitória de Santo Antão - PE       714   \n",
       "142357  2020     12  France  Vitória de Santo Antão - PE       714   \n",
       "142358  2020     12  France                  Xapuri - AC      4409   \n",
       "142359  2020     12  France                  Xapuri - AC      4409   \n",
       "\n",
       "                                          SH4 Description  SH2 Code  \\\n",
       "0       Fish, frozen, excluding fish fillets and other...         3   \n",
       "1       Fish, frozen, excluding fish fillets and other...         3   \n",
       "2       Fish fillets and other fish meat (whether or n...         3   \n",
       "3       Fish fillets and other fish meat (whether or n...         3   \n",
       "4       Coffee, whether or not roasted or decaffeinate...         9   \n",
       "...                                                   ...       ...   \n",
       "142355  Mechanical appliances (whether or not hand-ope...        84   \n",
       "142356  Manioc, arrowroot, salep, Jerusalem artichokes...         7   \n",
       "142357  Manioc, arrowroot, salep, Jerusalem artichokes...         7   \n",
       "142358  Wood (including strips and friezes for parquet...        44   \n",
       "142359  Wood (including strips and friezes for parquet...        44   \n",
       "\n",
       "                                          SH2 Description  \\\n",
       "0       Fish and crustaceans, molluscs and other aquat...   \n",
       "1       Fish and crustaceans, molluscs and other aquat...   \n",
       "2       Fish and crustaceans, molluscs and other aquat...   \n",
       "3       Fish and crustaceans, molluscs and other aquat...   \n",
       "4                            Coffee, tea, maté and spices   \n",
       "...                                                   ...   \n",
       "142355  Nuclear reactors, boilers, machinery and mecha...   \n",
       "142356     Edible vegetables and certain roots and tubers   \n",
       "142357     Edible vegetables and certain roots and tubers   \n",
       "142358           Wood and articles of wood; wood charcoal   \n",
       "142359           Wood and articles of wood; wood charcoal   \n",
       "\n",
       "             Economic Block  US$ FOB  Net Weight  \n",
       "0                    Europe    79360       14150  \n",
       "1       European Union (EU)    79360       14150  \n",
       "2                    Europe    69412        9385  \n",
       "3       European Union (EU)    69412        9385  \n",
       "4                    Europe   180914       57600  \n",
       "...                     ...      ...         ...  \n",
       "142355  European Union (EU)     2316           4  \n",
       "142356               Europe    27060       26400  \n",
       "142357  European Union (EU)    27060       26400  \n",
       "142358               Europe    31111       23045  \n",
       "142359  European Union (EU)    31111       23045  \n",
       "\n",
       "[142360 rows x 11 columns]"
      ]
     },
     "metadata": {},
     "output_type": "display_data"
    }
   ],
   "source": [
    "display(exportFranca)"
   ]
  },
  {
   "cell_type": "code",
   "execution_count": 8,
   "id": "90e92890",
   "metadata": {},
   "outputs": [
    {
     "name": "stdout",
     "output_type": "stream",
     "text": [
      "<class 'pandas.core.frame.DataFrame'>\n",
      "Index: 71180 entries, 0 to 142358\n",
      "Data columns (total 11 columns):\n",
      " #   Column           Non-Null Count  Dtype \n",
      "---  ------           --------------  ----- \n",
      " 0   Year             71180 non-null  int64 \n",
      " 1   Month            71180 non-null  int64 \n",
      " 2   Country          71180 non-null  object\n",
      " 3   City             71180 non-null  object\n",
      " 4   SH4 Code         71180 non-null  int64 \n",
      " 5   SH4 Description  71180 non-null  object\n",
      " 6   SH2 Code         71180 non-null  int64 \n",
      " 7   SH2 Description  71180 non-null  object\n",
      " 8   Economic Block   71180 non-null  object\n",
      " 9   US$ FOB          71180 non-null  int64 \n",
      " 10  Net Weight       71180 non-null  int64 \n",
      "dtypes: int64(6), object(5)\n",
      "memory usage: 6.5+ MB\n",
      "None\n"
     ]
    }
   ],
   "source": [
    "import pandas as pd\n",
    "\n",
    "exportFranca = pd.read_csv('exportacoes_franca.csv')\n",
    "exportFranca = exportFranca.loc[exportFranca['Economic Block']=='Europe', :]\n",
    "print(exportFranca.info())"
   ]
  },
  {
   "cell_type": "markdown",
   "id": "2daa0fa9",
   "metadata": {},
   "source": [
    "### Como foi a evolução das exportações para a frança ao longo dos anos?"
   ]
  },
  {
   "cell_type": "code",
   "execution_count": 9,
   "id": "f02fb7d6",
   "metadata": {},
   "outputs": [
    {
     "data": {
      "text/plain": [
       "Year\n",
       "2016    2307750041\n",
       "2017    2224352728\n",
       "2018    2619712208\n",
       "2019    2609361806\n",
       "2020    1983797405\n",
       "Name: US$ FOB, dtype: int64"
      ]
     },
     "metadata": {},
     "output_type": "display_data"
    },
    {
     "data": {
      "text/plain": [
       "<Axes: title={'center': 'Faturamento de Exportações a França 2016 - 2020'}, xlabel='Ano', ylabel='Faturamento (US$ FOB)'>"
      ]
     },
     "execution_count": 9,
     "metadata": {},
     "output_type": "execute_result"
    },
    {
     "data": {
      "image/png": "[encoded data removed]",
      "text/plain": [
       "<Figure size 640x480 with 1 Axes>"
      ]
     },
     "metadata": {},
     "output_type": "display_data"
    }
   ],
   "source": [
    "import matplotlib as plt\n",
    "\n",
    "anosExportacao = exportFranca[['Year', 'US$ FOB']].groupby('Year')['US$ FOB'].sum()\n",
    "\n",
    "display(anosExportacao)\n",
    "\n",
    "anosExportacao.plot(kind='bar', title='Faturamento de Exportações a França 2016 - 2020', xlabel='Ano', ylabel='Faturamento (US$ FOB)')"
   ]
  },
  {
   "cell_type": "markdown",
   "id": "717e331d",
   "metadata": {},
   "source": [
    "### Quais os produtos mais exportados ao longo de todo o período?"
   ]
  },
  {
   "cell_type": "code",
   "execution_count": null,
   "id": "ba74c817",
   "metadata": {},
   "outputs": [],
   "source": []
  },
  {
   "cell_type": "markdown",
   "id": "6ce25d4d",
   "metadata": {},
   "source": [
    "### Em 2020 qual cidade mais exportou para a França?"
   ]
  },
  {
   "cell_type": "code",
   "execution_count": null,
   "id": "074fb7b8",
   "metadata": {},
   "outputs": [],
   "source": []
  },
  {
   "cell_type": "markdown",
   "id": "84fbbcf3",
   "metadata": {},
   "source": [
    "### O que as 2 maiores cidades exportaram tanto?"
   ]
  },
  {
   "cell_type": "code",
   "execution_count": null,
   "id": "d348d64f-950a-4d6c-a01c-7fd74a3535e7",
   "metadata": {},
   "outputs": [],
   "source": []
  }
 ],
 "metadata": {
  "kernelspec": {
   "display_name": "Python 3 (ipykernel)",
   "language": "python",
   "name": "python3"
  },
  "language_info": {
   "codemirror_mode": {
    "name": "ipython",
    "version": 3
   },
   "file_extension": ".py",
   "mimetype": "text/x-python",
   "name": "python",
   "nbconvert_exporter": "python",
   "pygments_lexer": "ipython3",
   "version": "3.11.7"
  }
 },
 "nbformat": 4,
 "nbformat_minor": 5
}
